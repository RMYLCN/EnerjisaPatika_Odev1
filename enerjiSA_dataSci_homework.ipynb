{
  "nbformat": 4,
  "nbformat_minor": 0,
  "metadata": {
    "colab": {
      "name": "enerjiSA_dataSci_homework.ipynb",
      "provenance": [],
      "collapsed_sections": []
    },
    "kernelspec": {
      "name": "python3",
      "display_name": "Python 3"
    },
    "language_info": {
      "name": "python"
    }
  },
  "cells": [
    {
      "cell_type": "markdown",
      "metadata": {
        "id": "YklRQBHSxlgd"
      },
      "source": [
        "FIRST ASSIGNMENT OF ENERJISA & PATIKA BOOTCAMP\n",
        "* [Create Dataframe with Pandas](#1)\n",
        "* [Part of Describe and Quartile](#2)\n",
        "* [Corr & Cov & Pearson & Spearman Rank & Effect Size'](#3)\n",
        "* [Real Life Example of Bayes ](#4)\n",
        "* [Similarities and differences of distributions](#5)\n",
        "                                                  "
      ]
    },
    {
      "cell_type": "code",
      "metadata": {
        "id": "Qf3p45ruMPH7"
      },
      "source": [
        "import pandas as pd\n",
        "import numpy as np\n",
        "import seaborn as sns\n",
        "import matplotlib.pyplot as plt\n",
        "from scipy import stats\n",
        "from math import sqrt\n",
        "import scipy\n",
        "import warnings\n",
        "warnings.filterwarnings(\"ignore\")"
      ],
      "execution_count": 112,
      "outputs": []
    },
    {
      "cell_type": "markdown",
      "metadata": {
        "id": "mkxC96tyL5rK"
      },
      "source": [
        "<a name=\"1\"></a>\n",
        "# BİRİNCİ SORU\n"
      ]
    },
    {
      "cell_type": "markdown",
      "metadata": {
        "id": "_SMh_k2F8Dlv"
      },
      "source": [
        "Pandas kütüphanesiyle bir DataFrame oluşturup ve içine Levels of Measurements'ları nominal, ordinal, interval ve ratio olan kolonlar ekleyelim."
      ]
    },
    {
      "cell_type": "code",
      "metadata": {
        "colab": {
          "base_uri": "https://localhost:8080/",
          "height": 510
        },
        "id": "iyJIMVstLo3i",
        "outputId": "b4fe4cd1-a3a2-490e-9476-cc2f2e9209fb"
      },
      "source": [
        "# This dataframe is inspired by archery, We'll investigate the types of arches\n",
        "\n",
        "# Nominal As \"Name of Arches\"\n",
        "nominal = ['Hoyt','Winners','Win&Win','Samick','MK_Korea']\n",
        "\n",
        "# Ordinal As \"Type of Arches\"\n",
        "ordinal = ['wood','iron','roller']\n",
        "\n",
        "# Interval As \"Created Year of Arches\"\n",
        "interval = np.arange(2010,2021)\n",
        "\n",
        "# Ratio As \"Lenght of Arches Stem\"\n",
        "ratio = np.arange(21, 26)\n",
        "\n",
        "# They're the contents of the dataframe will be randomly generated\n",
        "archNominal = []\n",
        "archOrdinal = []\n",
        "archInterval = []\n",
        "archRatio  = []\n",
        "\n",
        "\n",
        "for i in range(100):\n",
        "  archNominal.append(nominal[np.random.randint(len(nominal))])\n",
        "  archOrdinal.append(ordinal[np.random.randint(len(ordinal))])\n",
        "  archInterval.append(interval[np.random.randint(len(interval))])\n",
        "  archRatio.append(ratio[np.random.randint(len(ratio))])\n",
        "#print(archOrdinal)\n",
        "\n",
        "dataFrame = pd.DataFrame({'Brand': archNominal, 'Type': archOrdinal, 'Created Year': archInterval, 'Lenght of Stem': archRatio})\n",
        "dataFrame.head(15)"
      ],
      "execution_count": 113,
      "outputs": [
        {
          "output_type": "execute_result",
          "data": {
            "text/html": [
              "<div>\n",
              "<style scoped>\n",
              "    .dataframe tbody tr th:only-of-type {\n",
              "        vertical-align: middle;\n",
              "    }\n",
              "\n",
              "    .dataframe tbody tr th {\n",
              "        vertical-align: top;\n",
              "    }\n",
              "\n",
              "    .dataframe thead th {\n",
              "        text-align: right;\n",
              "    }\n",
              "</style>\n",
              "<table border=\"1\" class=\"dataframe\">\n",
              "  <thead>\n",
              "    <tr style=\"text-align: right;\">\n",
              "      <th></th>\n",
              "      <th>Brand</th>\n",
              "      <th>Type</th>\n",
              "      <th>Created Year</th>\n",
              "      <th>Lenght of Stem</th>\n",
              "    </tr>\n",
              "  </thead>\n",
              "  <tbody>\n",
              "    <tr>\n",
              "      <th>0</th>\n",
              "      <td>Win&amp;Win</td>\n",
              "      <td>iron</td>\n",
              "      <td>2020</td>\n",
              "      <td>23</td>\n",
              "    </tr>\n",
              "    <tr>\n",
              "      <th>1</th>\n",
              "      <td>Samick</td>\n",
              "      <td>iron</td>\n",
              "      <td>2020</td>\n",
              "      <td>21</td>\n",
              "    </tr>\n",
              "    <tr>\n",
              "      <th>2</th>\n",
              "      <td>Samick</td>\n",
              "      <td>iron</td>\n",
              "      <td>2015</td>\n",
              "      <td>24</td>\n",
              "    </tr>\n",
              "    <tr>\n",
              "      <th>3</th>\n",
              "      <td>Winners</td>\n",
              "      <td>wood</td>\n",
              "      <td>2014</td>\n",
              "      <td>25</td>\n",
              "    </tr>\n",
              "    <tr>\n",
              "      <th>4</th>\n",
              "      <td>Hoyt</td>\n",
              "      <td>roller</td>\n",
              "      <td>2018</td>\n",
              "      <td>23</td>\n",
              "    </tr>\n",
              "    <tr>\n",
              "      <th>5</th>\n",
              "      <td>Samick</td>\n",
              "      <td>wood</td>\n",
              "      <td>2015</td>\n",
              "      <td>24</td>\n",
              "    </tr>\n",
              "    <tr>\n",
              "      <th>6</th>\n",
              "      <td>Hoyt</td>\n",
              "      <td>roller</td>\n",
              "      <td>2014</td>\n",
              "      <td>22</td>\n",
              "    </tr>\n",
              "    <tr>\n",
              "      <th>7</th>\n",
              "      <td>MK_Korea</td>\n",
              "      <td>iron</td>\n",
              "      <td>2011</td>\n",
              "      <td>25</td>\n",
              "    </tr>\n",
              "    <tr>\n",
              "      <th>8</th>\n",
              "      <td>Win&amp;Win</td>\n",
              "      <td>roller</td>\n",
              "      <td>2015</td>\n",
              "      <td>25</td>\n",
              "    </tr>\n",
              "    <tr>\n",
              "      <th>9</th>\n",
              "      <td>Samick</td>\n",
              "      <td>wood</td>\n",
              "      <td>2010</td>\n",
              "      <td>24</td>\n",
              "    </tr>\n",
              "    <tr>\n",
              "      <th>10</th>\n",
              "      <td>Winners</td>\n",
              "      <td>roller</td>\n",
              "      <td>2020</td>\n",
              "      <td>21</td>\n",
              "    </tr>\n",
              "    <tr>\n",
              "      <th>11</th>\n",
              "      <td>MK_Korea</td>\n",
              "      <td>iron</td>\n",
              "      <td>2017</td>\n",
              "      <td>21</td>\n",
              "    </tr>\n",
              "    <tr>\n",
              "      <th>12</th>\n",
              "      <td>Samick</td>\n",
              "      <td>iron</td>\n",
              "      <td>2013</td>\n",
              "      <td>24</td>\n",
              "    </tr>\n",
              "    <tr>\n",
              "      <th>13</th>\n",
              "      <td>Winners</td>\n",
              "      <td>roller</td>\n",
              "      <td>2019</td>\n",
              "      <td>22</td>\n",
              "    </tr>\n",
              "    <tr>\n",
              "      <th>14</th>\n",
              "      <td>Hoyt</td>\n",
              "      <td>wood</td>\n",
              "      <td>2010</td>\n",
              "      <td>25</td>\n",
              "    </tr>\n",
              "  </tbody>\n",
              "</table>\n",
              "</div>"
            ],
            "text/plain": [
              "       Brand    Type  Created Year  Lenght of Stem\n",
              "0    Win&Win    iron          2020              23\n",
              "1     Samick    iron          2020              21\n",
              "2     Samick    iron          2015              24\n",
              "3    Winners    wood          2014              25\n",
              "4       Hoyt  roller          2018              23\n",
              "5     Samick    wood          2015              24\n",
              "6       Hoyt  roller          2014              22\n",
              "7   MK_Korea    iron          2011              25\n",
              "8    Win&Win  roller          2015              25\n",
              "9     Samick    wood          2010              24\n",
              "10   Winners  roller          2020              21\n",
              "11  MK_Korea    iron          2017              21\n",
              "12    Samick    iron          2013              24\n",
              "13   Winners  roller          2019              22\n",
              "14      Hoyt    wood          2010              25"
            ]
          },
          "metadata": {},
          "execution_count": 113
        }
      ]
    },
    {
      "cell_type": "markdown",
      "metadata": {
        "id": "Ovquogs7Wunf"
      },
      "source": [
        "****\n",
        "<a name=\"2\"></a>\n",
        "# İKİNCİ SORU"
      ]
    },
    {
      "cell_type": "markdown",
      "metadata": {
        "id": "3AVDbFOf8Ncx"
      },
      "source": [
        "Ekli data üzerindeki aşağıda yer alan kolonların count, mean, std, min, 25%, 50%, 75%, max değerlerini ve IQR metoduyla outlier kalan veri sayısını çıkartıp, bu değerleri sözel ve karşılaştırmalı olarak yorumlayalım."
      ]
    },
    {
      "cell_type": "code",
      "metadata": {
        "colab": {
          "resources": {
            "http://localhost:8080/nbextensions/google.colab/files.js": {
              "data": "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",
              "ok": true,
              "headers": [
                [
                  "content-type",
                  "application/javascript"
                ]
              ],
              "status": 200,
              "status_text": ""
            }
          },
          "base_uri": "https://localhost:8080/",
          "height": 73
        },
        "id": "xNVnU02jWxNf",
        "outputId": "3204b7b7-7651-4878-bb96-89ef5af84118"
      },
      "source": [
        "#Getting data from pc\n",
        "from google.colab import files\n",
        "uploaded = files.upload()\n",
        "\n",
        "import io\n",
        "data = pd.read_csv(io.BytesIO(uploaded['data.csv']))"
      ],
      "execution_count": 114,
      "outputs": [
        {
          "output_type": "display_data",
          "data": {
            "text/html": [
              "\n",
              "     <input type=\"file\" id=\"files-fbcf9079-f063-4b1e-a592-ac0646e907e1\" name=\"files[]\" multiple disabled\n",
              "        style=\"border:none\" />\n",
              "     <output id=\"result-fbcf9079-f063-4b1e-a592-ac0646e907e1\">\n",
              "      Upload widget is only available when the cell has been executed in the\n",
              "      current browser session. Please rerun this cell to enable.\n",
              "      </output>\n",
              "      <script src=\"/nbextensions/google.colab/files.js\"></script> "
            ],
            "text/plain": [
              "<IPython.core.display.HTML object>"
            ]
          },
          "metadata": {}
        },
        {
          "output_type": "stream",
          "name": "stdout",
          "text": [
            "Saving data.csv to data (4).csv\n"
          ]
        }
      ]
    },
    {
      "cell_type": "code",
      "metadata": {
        "colab": {
          "base_uri": "https://localhost:8080/",
          "height": 239
        },
        "id": "zTKd9YKLYkZ4",
        "outputId": "3bbb974b-8be8-4e5c-f972-ad8df9bea3d1"
      },
      "source": [
        "#Quick Look Data\n",
        "data.head()"
      ],
      "execution_count": 115,
      "outputs": [
        {
          "output_type": "execute_result",
          "data": {
            "text/html": [
              "<div>\n",
              "<style scoped>\n",
              "    .dataframe tbody tr th:only-of-type {\n",
              "        vertical-align: middle;\n",
              "    }\n",
              "\n",
              "    .dataframe tbody tr th {\n",
              "        vertical-align: top;\n",
              "    }\n",
              "\n",
              "    .dataframe thead th {\n",
              "        text-align: right;\n",
              "    }\n",
              "</style>\n",
              "<table border=\"1\" class=\"dataframe\">\n",
              "  <thead>\n",
              "    <tr style=\"text-align: right;\">\n",
              "      <th></th>\n",
              "      <th>id</th>\n",
              "      <th>diagnosis</th>\n",
              "      <th>radius_mean</th>\n",
              "      <th>texture_mean</th>\n",
              "      <th>perimeter_mean</th>\n",
              "      <th>area_mean</th>\n",
              "      <th>smoothness_mean</th>\n",
              "      <th>compactness_mean</th>\n",
              "      <th>concavity_mean</th>\n",
              "      <th>concave points_mean</th>\n",
              "      <th>symmetry_mean</th>\n",
              "      <th>fractal_dimension_mean</th>\n",
              "      <th>radius_se</th>\n",
              "      <th>texture_se</th>\n",
              "      <th>perimeter_se</th>\n",
              "      <th>area_se</th>\n",
              "      <th>smoothness_se</th>\n",
              "      <th>compactness_se</th>\n",
              "      <th>concavity_se</th>\n",
              "      <th>concave points_se</th>\n",
              "      <th>symmetry_se</th>\n",
              "      <th>fractal_dimension_se</th>\n",
              "      <th>radius_worst</th>\n",
              "      <th>texture_worst</th>\n",
              "      <th>perimeter_worst</th>\n",
              "      <th>area_worst</th>\n",
              "      <th>smoothness_worst</th>\n",
              "      <th>compactness_worst</th>\n",
              "      <th>concavity_worst</th>\n",
              "      <th>concave points_worst</th>\n",
              "      <th>symmetry_worst</th>\n",
              "      <th>fractal_dimension_worst</th>\n",
              "      <th>Unnamed: 32</th>\n",
              "    </tr>\n",
              "  </thead>\n",
              "  <tbody>\n",
              "    <tr>\n",
              "      <th>0</th>\n",
              "      <td>842302</td>\n",
              "      <td>M</td>\n",
              "      <td>17.99</td>\n",
              "      <td>10.38</td>\n",
              "      <td>122.80</td>\n",
              "      <td>1001.0</td>\n",
              "      <td>0.11840</td>\n",
              "      <td>0.27760</td>\n",
              "      <td>0.3001</td>\n",
              "      <td>0.14710</td>\n",
              "      <td>0.2419</td>\n",
              "      <td>0.07871</td>\n",
              "      <td>1.0950</td>\n",
              "      <td>0.9053</td>\n",
              "      <td>8.589</td>\n",
              "      <td>153.40</td>\n",
              "      <td>0.006399</td>\n",
              "      <td>0.04904</td>\n",
              "      <td>0.05373</td>\n",
              "      <td>0.01587</td>\n",
              "      <td>0.03003</td>\n",
              "      <td>0.006193</td>\n",
              "      <td>25.38</td>\n",
              "      <td>17.33</td>\n",
              "      <td>184.60</td>\n",
              "      <td>2019.0</td>\n",
              "      <td>0.1622</td>\n",
              "      <td>0.6656</td>\n",
              "      <td>0.7119</td>\n",
              "      <td>0.2654</td>\n",
              "      <td>0.4601</td>\n",
              "      <td>0.11890</td>\n",
              "      <td>NaN</td>\n",
              "    </tr>\n",
              "    <tr>\n",
              "      <th>1</th>\n",
              "      <td>842517</td>\n",
              "      <td>M</td>\n",
              "      <td>20.57</td>\n",
              "      <td>17.77</td>\n",
              "      <td>132.90</td>\n",
              "      <td>1326.0</td>\n",
              "      <td>0.08474</td>\n",
              "      <td>0.07864</td>\n",
              "      <td>0.0869</td>\n",
              "      <td>0.07017</td>\n",
              "      <td>0.1812</td>\n",
              "      <td>0.05667</td>\n",
              "      <td>0.5435</td>\n",
              "      <td>0.7339</td>\n",
              "      <td>3.398</td>\n",
              "      <td>74.08</td>\n",
              "      <td>0.005225</td>\n",
              "      <td>0.01308</td>\n",
              "      <td>0.01860</td>\n",
              "      <td>0.01340</td>\n",
              "      <td>0.01389</td>\n",
              "      <td>0.003532</td>\n",
              "      <td>24.99</td>\n",
              "      <td>23.41</td>\n",
              "      <td>158.80</td>\n",
              "      <td>1956.0</td>\n",
              "      <td>0.1238</td>\n",
              "      <td>0.1866</td>\n",
              "      <td>0.2416</td>\n",
              "      <td>0.1860</td>\n",
              "      <td>0.2750</td>\n",
              "      <td>0.08902</td>\n",
              "      <td>NaN</td>\n",
              "    </tr>\n",
              "    <tr>\n",
              "      <th>2</th>\n",
              "      <td>84300903</td>\n",
              "      <td>M</td>\n",
              "      <td>19.69</td>\n",
              "      <td>21.25</td>\n",
              "      <td>130.00</td>\n",
              "      <td>1203.0</td>\n",
              "      <td>0.10960</td>\n",
              "      <td>0.15990</td>\n",
              "      <td>0.1974</td>\n",
              "      <td>0.12790</td>\n",
              "      <td>0.2069</td>\n",
              "      <td>0.05999</td>\n",
              "      <td>0.7456</td>\n",
              "      <td>0.7869</td>\n",
              "      <td>4.585</td>\n",
              "      <td>94.03</td>\n",
              "      <td>0.006150</td>\n",
              "      <td>0.04006</td>\n",
              "      <td>0.03832</td>\n",
              "      <td>0.02058</td>\n",
              "      <td>0.02250</td>\n",
              "      <td>0.004571</td>\n",
              "      <td>23.57</td>\n",
              "      <td>25.53</td>\n",
              "      <td>152.50</td>\n",
              "      <td>1709.0</td>\n",
              "      <td>0.1444</td>\n",
              "      <td>0.4245</td>\n",
              "      <td>0.4504</td>\n",
              "      <td>0.2430</td>\n",
              "      <td>0.3613</td>\n",
              "      <td>0.08758</td>\n",
              "      <td>NaN</td>\n",
              "    </tr>\n",
              "    <tr>\n",
              "      <th>3</th>\n",
              "      <td>84348301</td>\n",
              "      <td>M</td>\n",
              "      <td>11.42</td>\n",
              "      <td>20.38</td>\n",
              "      <td>77.58</td>\n",
              "      <td>386.1</td>\n",
              "      <td>0.14250</td>\n",
              "      <td>0.28390</td>\n",
              "      <td>0.2414</td>\n",
              "      <td>0.10520</td>\n",
              "      <td>0.2597</td>\n",
              "      <td>0.09744</td>\n",
              "      <td>0.4956</td>\n",
              "      <td>1.1560</td>\n",
              "      <td>3.445</td>\n",
              "      <td>27.23</td>\n",
              "      <td>0.009110</td>\n",
              "      <td>0.07458</td>\n",
              "      <td>0.05661</td>\n",
              "      <td>0.01867</td>\n",
              "      <td>0.05963</td>\n",
              "      <td>0.009208</td>\n",
              "      <td>14.91</td>\n",
              "      <td>26.50</td>\n",
              "      <td>98.87</td>\n",
              "      <td>567.7</td>\n",
              "      <td>0.2098</td>\n",
              "      <td>0.8663</td>\n",
              "      <td>0.6869</td>\n",
              "      <td>0.2575</td>\n",
              "      <td>0.6638</td>\n",
              "      <td>0.17300</td>\n",
              "      <td>NaN</td>\n",
              "    </tr>\n",
              "    <tr>\n",
              "      <th>4</th>\n",
              "      <td>84358402</td>\n",
              "      <td>M</td>\n",
              "      <td>20.29</td>\n",
              "      <td>14.34</td>\n",
              "      <td>135.10</td>\n",
              "      <td>1297.0</td>\n",
              "      <td>0.10030</td>\n",
              "      <td>0.13280</td>\n",
              "      <td>0.1980</td>\n",
              "      <td>0.10430</td>\n",
              "      <td>0.1809</td>\n",
              "      <td>0.05883</td>\n",
              "      <td>0.7572</td>\n",
              "      <td>0.7813</td>\n",
              "      <td>5.438</td>\n",
              "      <td>94.44</td>\n",
              "      <td>0.011490</td>\n",
              "      <td>0.02461</td>\n",
              "      <td>0.05688</td>\n",
              "      <td>0.01885</td>\n",
              "      <td>0.01756</td>\n",
              "      <td>0.005115</td>\n",
              "      <td>22.54</td>\n",
              "      <td>16.67</td>\n",
              "      <td>152.20</td>\n",
              "      <td>1575.0</td>\n",
              "      <td>0.1374</td>\n",
              "      <td>0.2050</td>\n",
              "      <td>0.4000</td>\n",
              "      <td>0.1625</td>\n",
              "      <td>0.2364</td>\n",
              "      <td>0.07678</td>\n",
              "      <td>NaN</td>\n",
              "    </tr>\n",
              "  </tbody>\n",
              "</table>\n",
              "</div>"
            ],
            "text/plain": [
              "         id diagnosis  ...  fractal_dimension_worst  Unnamed: 32\n",
              "0    842302         M  ...                  0.11890          NaN\n",
              "1    842517         M  ...                  0.08902          NaN\n",
              "2  84300903         M  ...                  0.08758          NaN\n",
              "3  84348301         M  ...                  0.17300          NaN\n",
              "4  84358402         M  ...                  0.07678          NaN\n",
              "\n",
              "[5 rows x 33 columns]"
            ]
          },
          "metadata": {},
          "execution_count": 115
        }
      ]
    },
    {
      "cell_type": "code",
      "metadata": {
        "colab": {
          "base_uri": "https://localhost:8080/"
        },
        "id": "Iqt7maNQaSnY",
        "outputId": "749decb5-50d9-4d6d-f172-85322ed90b63"
      },
      "source": [
        "data.isnull().sum()"
      ],
      "execution_count": 116,
      "outputs": [
        {
          "output_type": "execute_result",
          "data": {
            "text/plain": [
              "id                           0\n",
              "diagnosis                    0\n",
              "radius_mean                  0\n",
              "texture_mean                 0\n",
              "perimeter_mean               0\n",
              "area_mean                    0\n",
              "smoothness_mean              0\n",
              "compactness_mean             0\n",
              "concavity_mean               0\n",
              "concave points_mean          0\n",
              "symmetry_mean                0\n",
              "fractal_dimension_mean       0\n",
              "radius_se                    0\n",
              "texture_se                   0\n",
              "perimeter_se                 0\n",
              "area_se                      0\n",
              "smoothness_se                0\n",
              "compactness_se               0\n",
              "concavity_se                 0\n",
              "concave points_se            0\n",
              "symmetry_se                  0\n",
              "fractal_dimension_se         0\n",
              "radius_worst                 0\n",
              "texture_worst                0\n",
              "perimeter_worst              0\n",
              "area_worst                   0\n",
              "smoothness_worst             0\n",
              "compactness_worst            0\n",
              "concavity_worst              0\n",
              "concave points_worst         0\n",
              "symmetry_worst               0\n",
              "fractal_dimension_worst      0\n",
              "Unnamed: 32                569\n",
              "dtype: int64"
            ]
          },
          "metadata": {},
          "execution_count": 116
        }
      ]
    },
    {
      "cell_type": "markdown",
      "metadata": {
        "id": "IamSQ-rJayrb"
      },
      "source": [
        "\n",
        "\n",
        "```\n",
        "Should've Dropped unnamed colon..\n",
        "```\n",
        "\n"
      ]
    },
    {
      "cell_type": "code",
      "metadata": {
        "colab": {
          "base_uri": "https://localhost:8080/",
          "height": 141
        },
        "id": "Q7aUNEwvbDOI",
        "outputId": "55617a99-7fa2-43ed-a118-dd6fa4c58a61"
      },
      "source": [
        "data.describe()[[\"radius_mean\",\"area_mean\",\"compactness_mean\"]].T"
      ],
      "execution_count": 117,
      "outputs": [
        {
          "output_type": "execute_result",
          "data": {
            "text/html": [
              "<div>\n",
              "<style scoped>\n",
              "    .dataframe tbody tr th:only-of-type {\n",
              "        vertical-align: middle;\n",
              "    }\n",
              "\n",
              "    .dataframe tbody tr th {\n",
              "        vertical-align: top;\n",
              "    }\n",
              "\n",
              "    .dataframe thead th {\n",
              "        text-align: right;\n",
              "    }\n",
              "</style>\n",
              "<table border=\"1\" class=\"dataframe\">\n",
              "  <thead>\n",
              "    <tr style=\"text-align: right;\">\n",
              "      <th></th>\n",
              "      <th>count</th>\n",
              "      <th>mean</th>\n",
              "      <th>std</th>\n",
              "      <th>min</th>\n",
              "      <th>25%</th>\n",
              "      <th>50%</th>\n",
              "      <th>75%</th>\n",
              "      <th>max</th>\n",
              "    </tr>\n",
              "  </thead>\n",
              "  <tbody>\n",
              "    <tr>\n",
              "      <th>radius_mean</th>\n",
              "      <td>569.0</td>\n",
              "      <td>14.127292</td>\n",
              "      <td>3.524049</td>\n",
              "      <td>6.98100</td>\n",
              "      <td>11.70000</td>\n",
              "      <td>13.37000</td>\n",
              "      <td>15.7800</td>\n",
              "      <td>28.1100</td>\n",
              "    </tr>\n",
              "    <tr>\n",
              "      <th>area_mean</th>\n",
              "      <td>569.0</td>\n",
              "      <td>654.889104</td>\n",
              "      <td>351.914129</td>\n",
              "      <td>143.50000</td>\n",
              "      <td>420.30000</td>\n",
              "      <td>551.10000</td>\n",
              "      <td>782.7000</td>\n",
              "      <td>2501.0000</td>\n",
              "    </tr>\n",
              "    <tr>\n",
              "      <th>compactness_mean</th>\n",
              "      <td>569.0</td>\n",
              "      <td>0.104341</td>\n",
              "      <td>0.052813</td>\n",
              "      <td>0.01938</td>\n",
              "      <td>0.06492</td>\n",
              "      <td>0.09263</td>\n",
              "      <td>0.1304</td>\n",
              "      <td>0.3454</td>\n",
              "    </tr>\n",
              "  </tbody>\n",
              "</table>\n",
              "</div>"
            ],
            "text/plain": [
              "                  count        mean         std  ...        50%       75%        max\n",
              "radius_mean       569.0   14.127292    3.524049  ...   13.37000   15.7800    28.1100\n",
              "area_mean         569.0  654.889104  351.914129  ...  551.10000  782.7000  2501.0000\n",
              "compactness_mean  569.0    0.104341    0.052813  ...    0.09263    0.1304     0.3454\n",
              "\n",
              "[3 rows x 8 columns]"
            ]
          },
          "metadata": {},
          "execution_count": 117
        }
      ]
    },
    {
      "cell_type": "markdown",
      "metadata": {
        "id": "cja1lfnFAlu1"
      },
      "source": [
        "\n",
        "\n",
        "```\n",
        "radius_mean\n",
        "\n",
        "* medyan < ortalama olduğu gözlenmektedir.\n",
        "* medyan değerleri birbirine oldukça yakın gözlenlenmektedir.\n",
        "* Sağa çarpık bir dağılıma sahip olabilir.\n",
        "* Standart sapma değeri çok büyük gözlenmektedir\n",
        "```\n",
        "\n"
      ]
    },
    {
      "cell_type": "markdown",
      "metadata": {
        "id": "YT9c1Fg6BJ7K"
      },
      "source": [
        "\n",
        "\n",
        "```\n",
        "area_mean\n",
        "\n",
        "* veri kümesiuç değerler barındırıyor olabilir,\n",
        "* medyan < ortalama ve standart sapması büyüktür,\n",
        "* veri kümesinin dağılımı sağa çarpık olabilir.\n",
        "```\n",
        "\n"
      ]
    },
    {
      "cell_type": "markdown",
      "metadata": {
        "id": "1ZN4oRMPBiGq"
      },
      "source": [
        "```\n",
        "compactness_mean\n",
        "\n",
        "* medyan < ortalama olduğu gözlenmektedir, \n",
        "* standart sapma değeri küçüktür,\n",
        "* sağa çarpık bir dağılıma sahip olabilir.\n",
        "```"
      ]
    },
    {
      "cell_type": "code",
      "metadata": {
        "id": "rone5UK0uiLl"
      },
      "source": [
        "# Create Function For Founding Quartiles\n",
        "def detect_outliers(data, column):\n",
        " \n",
        "    global cleaned_data\n",
        "    global outliers\n",
        "\n",
        "    Q1 = np.quantile(data[column], 0.25)\n",
        "    Q3 = np.quantile(data[column], 0.75)\n",
        "\n",
        "    IQR = Q3 - Q1\n",
        "\n",
        "    upper = Q3 + 1.5 * IQR  \n",
        "    lower = Q1 - 1.5 * IQR\n",
        "    \n",
        "    outliers = [i for i in data[column] if ((i > lower) & (i < upper))]\n",
        "    print('-'*80)\n",
        "    print(column, 'için outlier veri sayısı :', len(data) - len(outliers))\n",
        "    \n",
        "    cleaned_data = data.loc[data[column].isin(outliers)]"
      ],
      "execution_count": 118,
      "outputs": []
    },
    {
      "cell_type": "code",
      "metadata": {
        "colab": {
          "base_uri": "https://localhost:8080/"
        },
        "id": "M9AGLijz6Gha",
        "outputId": "0d34c3ce-9142-4b3a-80cd-7f477dad188f"
      },
      "source": [
        "# Implement Function\n",
        "for i in [\"radius_mean\",\"area_mean\",\"compactness_mean\"]:\n",
        "    detect_outliers(data, i)\n",
        "print('-'*80)"
      ],
      "execution_count": 119,
      "outputs": [
        {
          "output_type": "stream",
          "name": "stdout",
          "text": [
            "--------------------------------------------------------------------------------\n",
            "radius_mean için outlier veri sayısı : 14\n",
            "--------------------------------------------------------------------------------\n",
            "area_mean için outlier veri sayısı : 25\n",
            "--------------------------------------------------------------------------------\n",
            "compactness_mean için outlier veri sayısı : 16\n",
            "--------------------------------------------------------------------------------\n"
          ]
        }
      ]
    },
    {
      "cell_type": "code",
      "metadata": {
        "colab": {
          "base_uri": "https://localhost:8080/"
        },
        "id": "VLhuda6F6Gz6",
        "outputId": "f59279b3-f635-45b0-c92f-d7ec4630fa0d"
      },
      "source": [
        "# Let's See What We Have\n",
        "print('\\n','-'*100)\n",
        "print('\\nVeri setimizin ilk halinin istatistik sonuçları:\\n')\n",
        "print(data.describe())\n",
        "print('\\n','-'*80)\n",
        "print('\\nOutliers değerlerin filtrelenmesi sonucu istatistik sonuçları :\\n')\n",
        "print(filtered_data.describe())\n",
        "print('\\n','-'*100)"
      ],
      "execution_count": 120,
      "outputs": [
        {
          "output_type": "stream",
          "name": "stdout",
          "text": [
            "\n",
            " ----------------------------------------------------------------------------------------------------\n",
            "\n",
            "Veri setimizin ilk halinin istatistik sonuçları:\n",
            "\n",
            "                 id  radius_mean  ...  fractal_dimension_worst  Unnamed: 32\n",
            "count  5.690000e+02   569.000000  ...               569.000000          0.0\n",
            "mean   3.037183e+07    14.127292  ...                 0.083946          NaN\n",
            "std    1.250206e+08     3.524049  ...                 0.018061          NaN\n",
            "min    8.670000e+03     6.981000  ...                 0.055040          NaN\n",
            "25%    8.692180e+05    11.700000  ...                 0.071460          NaN\n",
            "50%    9.060240e+05    13.370000  ...                 0.080040          NaN\n",
            "75%    8.813129e+06    15.780000  ...                 0.092080          NaN\n",
            "max    9.113205e+08    28.110000  ...                 0.207500          NaN\n",
            "\n",
            "[8 rows x 32 columns]\n",
            "\n",
            " --------------------------------------------------------------------------------\n",
            "\n",
            "Outliers değerlerin filtrelenmesi sonucu istatistik sonuçları :\n",
            "\n",
            "                 id  radius_mean  ...  fractal_dimension_worst  Unnamed: 32\n",
            "count  5.530000e+02   553.000000  ...               553.000000          0.0\n",
            "mean   3.058298e+07    13.997792  ...                 0.082868          NaN\n",
            "std    1.266615e+08     3.410688  ...                 0.016272          NaN\n",
            "min    8.670000e+03     6.981000  ...                 0.055040          NaN\n",
            "25%    8.692180e+05    11.670000  ...                 0.071150          NaN\n",
            "50%    9.062900e+05    13.270000  ...                 0.079480          NaN\n",
            "75%    8.813129e+06    15.610000  ...                 0.091240          NaN\n",
            "max    9.113205e+08    28.110000  ...                 0.148600          NaN\n",
            "\n",
            "[8 rows x 32 columns]\n",
            "\n",
            " ----------------------------------------------------------------------------------------------------\n"
          ]
        }
      ]
    },
    {
      "cell_type": "markdown",
      "metadata": {
        "id": "1ihSh8yyz8nU"
      },
      "source": [
        ""
      ]
    },
    {
      "cell_type": "markdown",
      "metadata": {
        "id": "pls8eEVF7rG8"
      },
      "source": [
        "****\n",
        "<a name=\"3\"></a>\n",
        "# ÜÇÜNCÜ SORU"
      ]
    },
    {
      "cell_type": "markdown",
      "metadata": {
        "id": "f1jbGJ6O8VCq"
      },
      "source": [
        " Ekli data üzerindeki aşağıda yer alan kolonların birbirleriyle olan korelasyonlarını, covaryanslarını, Pearson Correlation Coefficientlarını, Spearman Rank Coefficientlarını ve Effect Size'larını bularak sözel ve karşılaştırmalı olarak yorumlayalım."
      ]
    },
    {
      "cell_type": "code",
      "metadata": {
        "colab": {
          "base_uri": "https://localhost:8080/",
          "height": 202
        },
        "id": "Z40HLSa88UVV",
        "outputId": "ddf59723-0f74-4f95-a2ef-f4e9402b446c"
      },
      "source": [
        "triple_data = data[[\"radius_mean\",\"area_mean\",\"compactness_mean\"]]\n",
        "triple_data.head()"
      ],
      "execution_count": 121,
      "outputs": [
        {
          "output_type": "execute_result",
          "data": {
            "text/html": [
              "<div>\n",
              "<style scoped>\n",
              "    .dataframe tbody tr th:only-of-type {\n",
              "        vertical-align: middle;\n",
              "    }\n",
              "\n",
              "    .dataframe tbody tr th {\n",
              "        vertical-align: top;\n",
              "    }\n",
              "\n",
              "    .dataframe thead th {\n",
              "        text-align: right;\n",
              "    }\n",
              "</style>\n",
              "<table border=\"1\" class=\"dataframe\">\n",
              "  <thead>\n",
              "    <tr style=\"text-align: right;\">\n",
              "      <th></th>\n",
              "      <th>radius_mean</th>\n",
              "      <th>area_mean</th>\n",
              "      <th>compactness_mean</th>\n",
              "    </tr>\n",
              "  </thead>\n",
              "  <tbody>\n",
              "    <tr>\n",
              "      <th>0</th>\n",
              "      <td>17.99</td>\n",
              "      <td>1001.0</td>\n",
              "      <td>0.27760</td>\n",
              "    </tr>\n",
              "    <tr>\n",
              "      <th>1</th>\n",
              "      <td>20.57</td>\n",
              "      <td>1326.0</td>\n",
              "      <td>0.07864</td>\n",
              "    </tr>\n",
              "    <tr>\n",
              "      <th>2</th>\n",
              "      <td>19.69</td>\n",
              "      <td>1203.0</td>\n",
              "      <td>0.15990</td>\n",
              "    </tr>\n",
              "    <tr>\n",
              "      <th>3</th>\n",
              "      <td>11.42</td>\n",
              "      <td>386.1</td>\n",
              "      <td>0.28390</td>\n",
              "    </tr>\n",
              "    <tr>\n",
              "      <th>4</th>\n",
              "      <td>20.29</td>\n",
              "      <td>1297.0</td>\n",
              "      <td>0.13280</td>\n",
              "    </tr>\n",
              "  </tbody>\n",
              "</table>\n",
              "</div>"
            ],
            "text/plain": [
              "   radius_mean  area_mean  compactness_mean\n",
              "0        17.99     1001.0           0.27760\n",
              "1        20.57     1326.0           0.07864\n",
              "2        19.69     1203.0           0.15990\n",
              "3        11.42      386.1           0.28390\n",
              "4        20.29     1297.0           0.13280"
            ]
          },
          "metadata": {},
          "execution_count": 121
        }
      ]
    },
    {
      "cell_type": "markdown",
      "metadata": {
        "id": "RTrEOGFJh-dG"
      },
      "source": [
        "-->Korelasyon"
      ]
    },
    {
      "cell_type": "code",
      "metadata": {
        "colab": {
          "base_uri": "https://localhost:8080/",
          "height": 488
        },
        "id": "F5dELb2Kca4m",
        "outputId": "3ecec9ad-fe5d-440d-a4d2-d40adddc4321"
      },
      "source": [
        "f,ax = plt.subplots(figsize=(8,8))\n",
        "sns.heatmap(triple_data.corr(), annot=True, linewidths=0.5,linecolor=\"white\",ax=ax)\n",
        "#sns.heatmap(triple_data.corr(), annot=True, linewidths=0.5,fmt= '.1f',linecolor=\"white\",ax=ax)\n",
        "plt.show()"
      ],
      "execution_count": 122,
      "outputs": [
        {
          "output_type": "display_data",
          "data": {
            "image/png": "[encoded data removed]",
            "text/plain": [
              "<Figure size 576x576 with 2 Axes>"
            ]
          },
          "metadata": {
            "needs_background": "light"
          }
        }
      ]
    },
    {
      "cell_type": "markdown",
      "metadata": {
        "id": "4xOTocQChpBR"
      },
      "source": [
        "\n",
        "\n",
        "```\n",
        "* \"radius_mean\" & \"area_mean\": Güçlü bir pozitif ilişki var. (Fizik kurallarına göre öyle olması beklenir.)\n",
        "* \"radius_mean\" & \"compactness_mean\": Pozitif ve orta seviyeli bir ilişki vardır.\n",
        "* \"area_mean\" & \"compactness_mean\": Pozitif ve orta seviyeli bir ilişki bulunmaktadır.\n",
        "```\n",
        "\n"
      ]
    },
    {
      "cell_type": "markdown",
      "metadata": {
        "id": "PE0dAq5FiD_-"
      },
      "source": [
        "***\n",
        "--> Kovaryans"
      ]
    },
    {
      "cell_type": "code",
      "metadata": {
        "colab": {
          "base_uri": "https://localhost:8080/",
          "height": 141
        },
        "id": "77hG1lrsgC0G",
        "outputId": "4b859244-7e8e-47d9-d202-571b1c454316"
      },
      "source": [
        "covariance_matrix = triple_data.cov()/10\n",
        "covariance_matrix"
      ],
      "execution_count": 123,
      "outputs": [
        {
          "output_type": "execute_result",
          "data": {
            "text/html": [
              "<div>\n",
              "<style scoped>\n",
              "    .dataframe tbody tr th:only-of-type {\n",
              "        vertical-align: middle;\n",
              "    }\n",
              "\n",
              "    .dataframe tbody tr th {\n",
              "        vertical-align: top;\n",
              "    }\n",
              "\n",
              "    .dataframe thead th {\n",
              "        text-align: right;\n",
              "    }\n",
              "</style>\n",
              "<table border=\"1\" class=\"dataframe\">\n",
              "  <thead>\n",
              "    <tr style=\"text-align: right;\">\n",
              "      <th></th>\n",
              "      <th>radius_mean</th>\n",
              "      <th>area_mean</th>\n",
              "      <th>compactness_mean</th>\n",
              "    </tr>\n",
              "  </thead>\n",
              "  <tbody>\n",
              "    <tr>\n",
              "      <th>radius_mean</th>\n",
              "      <td>1.241892</td>\n",
              "      <td>122.448341</td>\n",
              "      <td>0.009420</td>\n",
              "    </tr>\n",
              "    <tr>\n",
              "      <th>area_mean</th>\n",
              "      <td>122.448341</td>\n",
              "      <td>12384.355432</td>\n",
              "      <td>0.926493</td>\n",
              "    </tr>\n",
              "    <tr>\n",
              "      <th>compactness_mean</th>\n",
              "      <td>0.009420</td>\n",
              "      <td>0.926493</td>\n",
              "      <td>0.000279</td>\n",
              "    </tr>\n",
              "  </tbody>\n",
              "</table>\n",
              "</div>"
            ],
            "text/plain": [
              "                  radius_mean     area_mean  compactness_mean\n",
              "radius_mean          1.241892    122.448341          0.009420\n",
              "area_mean          122.448341  12384.355432          0.926493\n",
              "compactness_mean     0.009420      0.926493          0.000279"
            ]
          },
          "metadata": {},
          "execution_count": 123
        }
      ]
    },
    {
      "cell_type": "markdown",
      "metadata": {
        "id": "ajq5kpaxhg0a"
      },
      "source": [
        "\n",
        "\n",
        "```\n",
        "* \"radius_mean\" & \"area_mean\": Pozitif ilişki var.\n",
        "* \"radius_mean\" & \"compactness_mean\": Pozitif bir ilişki vardır.\n",
        "* \"area_mean\" & \"compactness_mean\": Pozitif bir ilişki bulunmaktadır.\n",
        "```\n",
        "\n"
      ]
    },
    {
      "cell_type": "markdown",
      "metadata": {
        "id": "0LUjAb5wiNce"
      },
      "source": [
        "***\n",
        "--> Pearson"
      ]
    },
    {
      "cell_type": "code",
      "metadata": {
        "colab": {
          "base_uri": "https://localhost:8080/"
        },
        "id": "vx5jiZkOiPc8",
        "outputId": "794398ef-544e-4619-f69d-294ca3c91415"
      },
      "source": [
        "from scipy.stats import pearsonr\n",
        "\n",
        "corr0,_ = pearsonr(data[\"radius_mean\"],data[\"area_mean\"])\n",
        "corr1,_ = pearsonr(data[\"radius_mean\"],data[\"compactness_mean\"])\n",
        "corr2,_ = pearsonr(data[\"area_mean\"],data[\"compactness_mean\"])\n",
        "\n",
        "print(\"Radius_mean & area_mean Corr:\" , corr0)\n",
        "print(\"Radius_mean & compactness_mean Corr:\" , corr1)\n",
        "print(\"Area_mean & compactness_mean Corr:\" , corr2)"
      ],
      "execution_count": 124,
      "outputs": [
        {
          "output_type": "stream",
          "name": "stdout",
          "text": [
            "Radius_mean & area_mean Corr: 0.9873571700566125\n",
            "Radius_mean & compactness_mean Corr: 0.5061235775263633\n",
            "Area_mean & compactness_mean Corr: 0.49850168215241175\n"
          ]
        }
      ]
    },
    {
      "cell_type": "markdown",
      "metadata": {
        "id": "AjCT2JGUkDyC"
      },
      "source": [
        "\n",
        "\n",
        "```\n",
        "* \"radius_mean\" & \"area_mean\": Güçlü bir ilişki var.\n",
        "* \"area_mean\" & \"compactness_mean\": Zayıf bir ilişki bulunmaktadır.\n",
        "```\n",
        "\n"
      ]
    },
    {
      "cell_type": "markdown",
      "metadata": {
        "id": "ouSd4i7QkU9P"
      },
      "source": [
        "***\n",
        "--> Spearman "
      ]
    },
    {
      "cell_type": "code",
      "metadata": {
        "colab": {
          "base_uri": "https://localhost:8080/"
        },
        "id": "W9OPlpNZkYju",
        "outputId": "0a6a354c-b363-4362-86a8-f4ad4d68b596"
      },
      "source": [
        "from scipy.stats import spearmanr\n",
        "\n",
        "spearman0,_ = spearmanr(data[\"radius_mean\"],data[\"area_mean\"])\n",
        "spearman1,_ = spearmanr(data[\"radius_mean\"],data[\"compactness_mean\"])\n",
        "spearman2,_ = spearmanr(data[\"area_mean\"],data[\"compactness_mean\"])\n",
        "\n",
        "print(\"Radius_mean & area_mean Corr:\" , spearman0)\n",
        "print(\"Radius_mean & compactness_mean Corr:\" , spearman1)\n",
        "print(\"Area_mean & compactness_mean Corr:\" , spearman2)"
      ],
      "execution_count": 125,
      "outputs": [
        {
          "output_type": "stream",
          "name": "stdout",
          "text": [
            "Radius_mean & area_mean Corr: 0.9996020278067481\n",
            "Radius_mean & compactness_mean Corr: 0.49757760995795647\n",
            "Area_mean & compactness_mean Corr: 0.4889883974982949\n"
          ]
        }
      ]
    },
    {
      "cell_type": "markdown",
      "metadata": {
        "id": "0Q79SYm1lH-Z"
      },
      "source": [
        "\n",
        "\n",
        "```\n",
        "* \"radius_mean\" & \"area_mean\": Güçlü bir pozitif ilişki var.\n",
        "* \"radius_mean\" & \"compactness_mean\": Pozitif ve zayıf bir ilişki vardır.\n",
        "* \"area_mean\" & \"compactness_mean\": Pozitif ve zayıf bir ilişki bulunmaktadır.\n",
        "```\n",
        "\n"
      ]
    },
    {
      "cell_type": "markdown",
      "metadata": {
        "id": "MR2Cx4RxlQ9o"
      },
      "source": [
        "***\n",
        "---> Effect Size"
      ]
    },
    {
      "cell_type": "code",
      "metadata": {
        "id": "c1U6TDEEmlh1"
      },
      "source": [
        "! pip install pingouin"
      ],
      "execution_count": null,
      "outputs": []
    },
    {
      "cell_type": "code",
      "metadata": {
        "colab": {
          "base_uri": "https://localhost:8080/"
        },
        "id": "R35tLuB1llNr",
        "outputId": "4bbcfc77-abc2-4a8c-f0bc-20be6a831184"
      },
      "source": [
        "import pingouin as pg\n",
        "\n",
        "effect0 = pg.compute_effsize(data[\"radius_mean\"],data[\"area_mean\"],eftype='cohen')\n",
        "effect1 = pg.compute_effsize(data[\"radius_mean\"],data[\"compactness_mean\"],eftype='cohen')\n",
        "effect2 = pg.compute_effsize(data[\"area_mean\"],data[\"compactness_mean\"],eftype='cohen')\n",
        "\n",
        "print(\"Radius_mean & area_mean Cohen:\" , effect0)\n",
        "print(\"Radius_mean & compactness_mean Cohen:\" , effect1)\n",
        "print(\"Area_mean & compactness_mean Cohen:\" , effect2)"
      ],
      "execution_count": 132,
      "outputs": [
        {
          "output_type": "stream",
          "name": "stdout",
          "text": [
            "Radius_mean & area_mean Cohen: -2.5748571535813936\n",
            "Radius_mean & compactness_mean Cohen: 5.626829112228556\n",
            "Area_mean & compactness_mean Cohen: 2.6313393087695855\n"
          ]
        }
      ]
    },
    {
      "cell_type": "markdown",
      "metadata": {
        "id": "k1BmV4Y7nlqe"
      },
      "source": [
        "\n",
        "\n",
        "```\n",
        "* Değerler çok yüksek çıkmıştır. Kolonlar arasındaki ortalama farkların, 1 hatta 2 standart sapmadan daha uzak olması; farklılığın bir göstergesidir.\n",
        "```\n",
        "\n"
      ]
    },
    {
      "cell_type": "markdown",
      "metadata": {
        "id": "iwa_cCoNoOZ1"
      },
      "source": [
        "****\n",
        "<a name=\"4\"></a>\n",
        "# DÖRDÜNCÜ SORU"
      ]
    },
    {
      "cell_type": "markdown",
      "metadata": {
        "id": "2nu_cl07q8zO"
      },
      "source": [
        "Bayes Teoreminin gerçek hayatta karşımıza çıkan ve kullanılan örneklerinden 5 tane bulalım."
      ]
    },
    {
      "cell_type": "markdown",
      "metadata": {
        "id": "eGNqnjBXrhts"
      },
      "source": [
        "* Örnek1: Spam olduğu kabul edilen 2000 mesajın 250'sinde ve spam olarak görünmeyen 1000 mesajın 5'inde 'Rolex' kelimesini bulduğumuzu kabul edelim. 'Rolex' kelimesini içeren bir mesajın spam olma olasılığı Bayes Spam Filtreleri kullanılarak hesaplanabilir."
      ]
    },
    {
      "cell_type": "markdown",
      "metadata": {
        "id": "Tpb1D92rwn2k"
      },
      "source": [
        "\n",
        "\n",
        "```\n",
        "* Örnek2: Yeni ilaç ve yeni bir uyuşturucu madde testinin değerlendirilmesinde de Bayes teoremi kullanılabilir\n",
        "```\n",
        "\n"
      ]
    },
    {
      "cell_type": "markdown",
      "metadata": {
        "id": "irH33onrrveV"
      },
      "source": [
        "* Örnek3: 100.000 kişide bir görülen nadir bir hastalık için yapılan bir testin rastgele kişiler seçildiğinde,hasta olan kişiler için doğruluğu %99 ve hasta olmayanlar için doğruluğu %99.5 ise bu bilgiler ışığında bir kişinin hasta veya pozitif testli olma olasılığı hesaplanabilir."
      ]
    },
    {
      "cell_type": "markdown",
      "metadata": {
        "id": "6Bj9jMyEwuAQ"
      },
      "source": [
        "\n",
        "\n",
        "```\n",
        "* Örnek4: Yağmur yağma durumu fıskiyenin çalışma olasılığını etkiler. Çimlerin ıslak olma olasılığı ise hem fıskiyeye hem de yağmura bağlıdır.\n",
        "```\n",
        "\n"
      ]
    },
    {
      "cell_type": "markdown",
      "metadata": {
        "id": "yoyqfqIBr8ld"
      },
      "source": [
        "* Örnek5: 80 yaşının üzerindeki yaşlıların yüksekten düşerek ölme olasılığı Bayes Teoremi kullanılarak hesaplanabilir."
      ]
    },
    {
      "cell_type": "markdown",
      "metadata": {
        "id": "L5AvNlEcsFge"
      },
      "source": [
        "****\n",
        "<a name=\"5\"></a>\n",
        "# BEŞİNCİ SORU"
      ]
    },
    {
      "cell_type": "markdown",
      "metadata": {
        "id": "Kq95HH0ase2V"
      },
      "source": [
        "Poisson, Normal , Gamma, Weilbull ve Logaritmik dağılımların benzer ve farklı yönlerini bir tablo halinde çıkaralım."
      ]
    },
    {
      "cell_type": "markdown",
      "metadata": {
        "id": "Q8gPKLPfv3ac"
      },
      "source": [
        "![homework1.png](data:image/png;base64,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)"
      ]
    },
    {
      "cell_type": "markdown",
      "metadata": {
        "id": "b305CvJHv7YE"
      },
      "source": [
        "****\n",
        "\n"
      ]
    }
  ]
}